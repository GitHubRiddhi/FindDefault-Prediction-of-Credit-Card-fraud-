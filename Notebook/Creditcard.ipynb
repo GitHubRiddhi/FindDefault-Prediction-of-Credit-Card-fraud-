{
 "cells": [
  {
   "cell_type": "markdown",
   "id": "f35a57fb-dbd8-478d-8b3c-f5623d5ee8a1",
   "metadata": {
    "tags": []
   },
   "source": [
    "# FindDefault (Prediction of Credit Card fraud)"
   ]
  },
  {
   "cell_type": "markdown",
   "id": "73da50a5-e36c-42d4-95b3-f1fc0af39545",
   "metadata": {},
   "source": [
    "## Welcome to Prediction of Credit Card fraud notebook!\n",
    "#### Greeting and welcome to this comprehesive notebook detailing the analysis and implementation of a credit card fraud detection system."
   ]
  },
  {
   "cell_type": "markdown",
   "id": "aac71c9f-31e0-4142-b806-2bfe816a58e4",
   "metadata": {
    "tags": []
   },
   "source": [
    "---"
   ]
  },
  {
   "cell_type": "markdown",
   "id": "59065e6c-267d-4e10-bbbd-0956aa6b901c",
   "metadata": {},
   "source": [
    "### Dependencies and Imports "
   ]
  },
  {
   "cell_type": "code",
   "execution_count": null,
   "id": "7ef611fc-6b16-45ff-8dd3-3cb1f788d28a",
   "metadata": {},
   "outputs": [],
   "source": [
    "import numpy as np \n",
    "import pandas as pd\n",
    "from sklearn.model_selection import train_test_split\n",
    "from sklearn.linear_model import LogisticRegression\n",
    "from sklearn.metrics import accuracy_score\n",
    "from sklearn.metrics import confusion_matrix\n",
    "import matplotlib.pyplot as plt\n",
    "import seaborn as sns\n",
    "from sklearn.metrics import classification_report\n",
    "from sklearn.metrics import roc_curve, auc"
   ]
  },
  {
   "cell_type": "markdown",
   "id": "09431016-7f3c-483f-8dc1-9b20d473ff22",
   "metadata": {},
   "source": [
    "### Load Dataset"
   ]
  },
  {
   "cell_type": "markdown",
   "id": "ad29689a-1096-451b-9502-37df51ee413c",
   "metadata": {},
   "source": [
    "#### Read the dataset for the specific path\n",
    "#### (s3://ccfraud01/creditcard.csv) into a Pandas DataFrame (df)"
   ]
  },
  {
   "cell_type": "code",
   "execution_count": null,
   "id": "a8988d12-5725-4e3e-95b8-c4e45bfc0fda",
   "metadata": {
    "tags": []
   },
   "outputs": [],
   "source": [
    "# Load Dataset\n",
    "df = pd.read_csv('s3://ccfraud01/creditcard.csv')"
   ]
  },
  {
   "cell_type": "markdown",
   "id": "06a9d592-5f9b-4aab-8512-e5a1e0388de7",
   "metadata": {},
   "source": [
    " Exploratory Data Analysis (EDA)"
   ]
  },
  {
   "cell_type": "code",
   "execution_count": null,
   "id": "6ed81972-6202-4217-a74f-5596262781d5",
   "metadata": {
    "tags": []
   },
   "outputs": [],
   "source": [
    "# Display the first few rows of the dataset\n",
    "df.head"
   ]
  },
  {
   "cell_type": "code",
   "execution_count": null,
   "id": "a24b7502-5176-44fe-bf59-4a88dde47d48",
   "metadata": {},
   "outputs": [],
   "source": [
    "# Display the last few rows of the dataset\n",
    "df.tail()"
   ]
  },
  {
   "cell_type": "code",
   "execution_count": null,
   "id": "8bc451d7-5cad-46e4-bdfe-6b93d1bb3b2d",
   "metadata": {
    "tags": []
   },
   "outputs": [],
   "source": [
    "# Display dataset information\n",
    "df.info()"
   ]
  },
  {
   "cell_type": "code",
   "execution_count": null,
   "id": "60a54965-b005-436a-b42e-db6c9fd59131",
   "metadata": {},
   "outputs": [],
   "source": [
    "# Check for missing values in each column\n",
    "df.isnull().sum()"
   ]
  },
  {
   "cell_type": "code",
   "execution_count": null,
   "id": "6cdc40f9-208e-4bcf-a7b8-ff0ff56da013",
   "metadata": {
    "tags": []
   },
   "outputs": [],
   "source": [
    "# Display the shape of the dataset (number of rows and columns)\n",
    "df.shape"
   ]
  },
  {
   "cell_type": "code",
   "execution_count": null,
   "id": "4a556ef9-ddb1-42d6-a523-1272e6f66887",
   "metadata": {
    "tags": []
   },
   "outputs": [],
   "source": [
    "# Check class distribution to determine balance or imbalance\n",
    "df['Class'].value_counts()"
   ]
  },
  {
   "cell_type": "markdown",
   "id": "2df7aeaf-fce6-49f2-94b3-e36fe8f24479",
   "metadata": {
    "tags": []
   },
   "source": [
    "## The dataset highly unblanced"
   ]
  },
  {
   "cell_type": "markdown",
   "id": "9a2a1585-7ef1-4c47-93c1-df8620711db3",
   "metadata": {
    "tags": []
   },
   "source": [
    "#### 0 = Normal Transaction\n",
    "#### 1 = Fraud Transaction"
   ]
  },
  {
   "cell_type": "code",
   "execution_count": null,
   "id": "7d9685ff-97fc-42a9-a98c-4d0aebfa9f11",
   "metadata": {
    "tags": []
   },
   "outputs": [],
   "source": [
    "# Generate summary statistics for numerical features in the dataset\n",
    "df.describe()"
   ]
  },
  {
   "cell_type": "code",
   "execution_count": null,
   "id": "f5ecb448-b64d-4e5a-aab8-2e5447fc1321",
   "metadata": {
    "tags": []
   },
   "outputs": [],
   "source": [
    "# Balance the dataset by separating legitimate (Class 0) and fraudulent (Class 1) transactions\n",
    "legit = df[df.Class == 0]\n",
    "fraud = df[df.Class == 1]"
   ]
  },
  {
   "cell_type": "code",
   "execution_count": null,
   "id": "b9cd5d32-23d6-41d9-9f38-308b06d657b4",
   "metadata": {
    "tags": []
   },
   "outputs": [],
   "source": [
    "# DataFrame containing legitimate (non-fraudulent) transactions\n",
    "legit"
   ]
  },
  {
   "cell_type": "code",
   "execution_count": null,
   "id": "dbb8116d-a41c-4f1f-a108-12f2b9c01f85",
   "metadata": {
    "tags": []
   },
   "outputs": [],
   "source": [
    "# Display the first few rows of the DataFrame containing fraudulent transactions\n",
    "fraud.head()"
   ]
  },
  {
   "cell_type": "code",
   "execution_count": null,
   "id": "11082bca-f80a-4125-9928-a9f5a6159976",
   "metadata": {
    "tags": []
   },
   "outputs": [],
   "source": [
    "# Display the shape of the DataFrame containing fraudulent transactions\n",
    "print(fraud.shape)\n",
    "\n",
    "# Display the shape of the DataFrame containing legitimate transactions\n",
    "print(legit.shape)"
   ]
  },
  {
   "cell_type": "code",
   "execution_count": null,
   "id": "0be5b334-76e4-4690-9a61-c530a02b9c52",
   "metadata": {
    "tags": []
   },
   "outputs": [],
   "source": [
    "# Generate summary statistics for the 'Amount' column in the DataFrame containing legitimate transactions\n",
    "legit.Amount.describe()"
   ]
  },
  {
   "cell_type": "code",
   "execution_count": null,
   "id": "ee73dd00-9e6e-4303-8209-140adb3cf56b",
   "metadata": {
    "tags": []
   },
   "outputs": [],
   "source": [
    "# Generate summary statistics for the 'Amount' column in the DataFrame containing fraudulent transactions\n",
    "fraud.Amount.describe"
   ]
  },
  {
   "cell_type": "code",
   "execution_count": null,
   "id": "9b10b494-e881-48e9-9552-05176e2c22db",
   "metadata": {
    "tags": []
   },
   "outputs": [],
   "source": [
    "# Compare the mean values of each numerical feature for both normal (Class 0) and fraudulent (Class 1) transactions\n",
    "df.groupby('Class').mean()"
   ]
  },
  {
   "cell_type": "markdown",
   "id": "f34b3210-1d97-4644-8c7b-0490067dbd2c",
   "metadata": {},
   "source": [
    "### Building a Sample Dataset with Balanced Distribution\n",
    "\n",
    "To ensure the robustness of our model in detecting fraudulent transactions, it's essential to train it on a dataset with a balanced distribution of normal (legitimate) and fraudulent transactions. This helps prevent bias towards the majority class and improves the model's ability to generalize.\n",
    "\n",
    "The following code snippet demonstrates the construction of a sample dataset with a similar distribution of normal and fraudulent transactions:"
   ]
  },
  {
   "cell_type": "code",
   "execution_count": null,
   "id": "19a36b4b-ee2e-4180-bafb-693bad40bd64",
   "metadata": {
    "tags": []
   },
   "outputs": [],
   "source": [
    "# Build a sample dataset containing a similar distribution of normal (legitimate) and fraudulent transactions\n",
    "legit_sample =  legit.sample(n = 492)\n",
    "df = pd.concat([legit_sample, fraud],axis = 0) "
   ]
  },
  {
   "cell_type": "code",
   "execution_count": null,
   "id": "ad15036f-d987-4363-b745-7ad46aa9c6ef",
   "metadata": {
    "tags": []
   },
   "outputs": [],
   "source": [
    "# Display the shape of the sample dataset\n",
    "df.shape"
   ]
  },
  {
   "cell_type": "code",
   "execution_count": null,
   "id": "ae63bc60-e011-4c42-a560-d38332a1ae8f",
   "metadata": {
    "tags": []
   },
   "outputs": [],
   "source": [
    "# Display the class distribution in the sample dataset\n",
    "df['Class'].value_counts()"
   ]
  },
  {
   "cell_type": "code",
   "execution_count": null,
   "id": "d8a983b9-d8b2-43f9-af1a-0e82aadcd1e6",
   "metadata": {
    "tags": []
   },
   "outputs": [],
   "source": [
    "# Calculate the mean of each numerical feature grouped by the 'Class' column in the sample dataset\n",
    "df.groupby('Class').mean()"
   ]
  },
  {
   "cell_type": "markdown",
   "id": "4cb33b43-dda3-4e15-a931-38f244d668ac",
   "metadata": {},
   "source": [
    "### Splitting Data into Features and Target Variables\n",
    "\n",
    "Before training a machine learning model, it's necessary to separate the dataset into input features (independent variables) and the target variable (dependent variable). This allows us to train the model to predict the target variable based on the input features.\n",
    "\n",
    "The following code snippet demonstrates the process of splitting the dataset into input features (X) and the target variable (Y):"
   ]
  },
  {
   "cell_type": "code",
   "execution_count": null,
   "id": "a3d4d5c5-1a03-4b78-8a0e-d598a8c350c0",
   "metadata": {
    "tags": []
   },
   "outputs": [],
   "source": [
    "# Splitting the data into features and target variables\n",
    "# X = input features (independent features)\n",
    "# Y = dependent feature\n",
    "X = df.drop('Class', axis=1)\n",
    "Y = df['Class']\n",
    "print(X)"
   ]
  },
  {
   "cell_type": "code",
   "execution_count": null,
   "id": "a70c41cd-1a6b-497a-80a9-626f1f2059d0",
   "metadata": {
    "tags": []
   },
   "outputs": [],
   "source": [
    "# Display the shape of the input features (X)\n",
    "X.shape"
   ]
  },
  {
   "cell_type": "code",
   "execution_count": null,
   "id": "57d2b770-58f4-45f7-9143-1161aa9c2d2d",
   "metadata": {
    "tags": []
   },
   "outputs": [],
   "source": [
    "# Display the shape of the target variable (Y)\n",
    "Y.shape"
   ]
  },
  {
   "cell_type": "markdown",
   "id": "45648f27-451a-417b-91f1-bdd828fd56ef",
   "metadata": {},
   "source": [
    "### Splitting the Dataset into Training and Testing Sets\n",
    "\n",
    "To evaluate the performance of our machine learning model, it's crucial to split the dataset into training and testing sets. This allows us to train the model on a portion of the data and evaluate its performance on unseen data.\n",
    "\n",
    "The following code snippet demonstrates the splitting of the dataset into training and testing sets using the train_test_split function:"
   ]
  },
  {
   "cell_type": "code",
   "execution_count": null,
   "id": "111c8564-d173-4599-a60f-46538a15e87a",
   "metadata": {
    "tags": []
   },
   "outputs": [],
   "source": [
    "# Split the dataset into training and testing sets using train_test_split\n",
    "# X_train: training set of input features\n",
    "# X_test: testing set of input features\n",
    "# Y_train: training set of target variable\n",
    "# Y_test: testing set of target variable\n",
    "# test_size: proportion of the dataset to include in the testing split (here, 20%)\n",
    "# stratify: ensures that the class distribution is preserved in the splits\n",
    "# random_state: seed for random number generation for reproducibility\n",
    "\n",
    "X_train, X_test, Y_train , Y_test = train_test_split(X, Y, test_size = 0.2,stratify = Y,  random_state=2)"
   ]
  },
  {
   "cell_type": "code",
   "execution_count": null,
   "id": "20248963-7bcb-4bea-b7aa-447f81ed0354",
   "metadata": {
    "tags": []
   },
   "outputs": [],
   "source": [
    "# Print the shapes of the input features in the original dataset, training set, and testing set\n",
    "print( X.shape, X_train.shape, X_test.shape)"
   ]
  },
  {
   "cell_type": "markdown",
   "id": "e2f2df18-f520-4305-980c-33f0fdc1c6a2",
   "metadata": {},
   "source": [
    "### Logistic Regression Model Initialization and Training\n",
    "\n",
    "Logistic Regression is a widely used classification algorithm that predicts the probability of a binary outcome. In our case, it's employed to predict whether a transaction is fraudulent or not based on input features.\n",
    "\n",
    "The following code snippet demonstrates the initialization and training of a Logistic Regression model:"
   ]
  },
  {
   "cell_type": "code",
   "execution_count": null,
   "id": "81e64c87-b445-4b62-be2f-b78e895df613",
   "metadata": {
    "tags": []
   },
   "outputs": [],
   "source": [
    "# Logistic Regression model initialization and training\n",
    "\n",
    "# Initialize the Logistic Regression model\n",
    "model = LogisticRegression()\n",
    "\n",
    "# Fit the model on the training data\n",
    "model.fit(X_train, Y_train)"
   ]
  },
  {
   "cell_type": "markdown",
   "id": "bb0a5d94-90ad-48d0-89b4-541f980567e3",
   "metadata": {},
   "source": [
    "### Model Evaluation\n",
    "\n",
    "Model evaluation is crucial to assess the performance of the trained model on unseen data. Accuracy score is one of the commonly used metrics to evaluate classification models, which measures the proportion of correctly classified instances.\n",
    "\n",
    "The following code snippet demonstrates the calculation of the accuracy score on the training data:"
   ]
  },
  {
   "cell_type": "code",
   "execution_count": null,
   "id": "9c12e8dd-f959-43fa-b9f9-6275f994d3a3",
   "metadata": {
    "tags": []
   },
   "outputs": [],
   "source": [
    "# Model Evaluation\n",
    "# Calculate accuracy score on the training data\n",
    "X_train_prediction = model.predict(X_train)\n",
    "training_data_accuracy = accuracy_score(X_train_prediction, Y_train)"
   ]
  },
  {
   "cell_type": "code",
   "execution_count": null,
   "id": "c8f6e599-fc98-44f9-95e1-afb6b43c5572",
   "metadata": {
    "tags": []
   },
   "outputs": [],
   "source": [
    "# Print the accuracy score on the training data\n",
    "print('Accuracy on Training data: ', training_data_accuracy)"
   ]
  },
  {
   "cell_type": "code",
   "execution_count": null,
   "id": "759ce8a2-f80e-496b-b071-78e24c42c997",
   "metadata": {
    "tags": []
   },
   "outputs": [],
   "source": [
    "# Calculate accuracy score on the test data\n",
    "X_test_prediction = model.predict(X_test)\n",
    "test_data_accuracy = accuracy_score(X_test_prediction, Y_test)"
   ]
  },
  {
   "cell_type": "code",
   "execution_count": null,
   "id": "d99d2501-ab52-45c7-b791-1374a422f898",
   "metadata": {
    "tags": []
   },
   "outputs": [],
   "source": [
    "# Print the accuracy score on the testing data\n",
    "print('Accuracy on testing data :' , test_data_accuracy)"
   ]
  },
  {
   "cell_type": "markdown",
   "id": "e0659973-91a0-4df7-8d0d-5262d3a8dddd",
   "metadata": {},
   "source": [
    "### Confusion Matrix\n",
    "\n",
    "The confusion matrix is a performance measurement for classification problems where output can be two or more classes. It is a table with four different combinations of predicted and actual values: true positive (TP), true negative (TN), false positive (FP), and false negative (FN).\n",
    "\n",
    "The following confusion matrix represents the performance of the model on the test data:"
   ]
  },
  {
   "cell_type": "code",
   "execution_count": null,
   "id": "8aa91115-bb41-4968-a622-08741635d9db",
   "metadata": {
    "tags": []
   },
   "outputs": [],
   "source": [
    "# Calculate confusion matrix\n",
    "conf_matrix = confusion_matrix(Y_test, X_test_prediction)\n",
    "\n",
    "# Plot confusion matrix\n",
    "plt.figure(figsize=(8, 6))\n",
    "sns.heatmap(conf_matrix, annot=True, fmt=\"d\", cmap=\"Blues\", cbar=False)\n",
    "plt.xlabel('Predicted labels')\n",
    "plt.ylabel('True labels')\n",
    "plt.title('Confusion Matrix')\n",
    "plt.show()"
   ]
  },
  {
   "cell_type": "markdown",
   "id": "9413d617-2e0c-4981-8511-954863574ed6",
   "metadata": {},
   "source": [
    "### Model Evaluation: Precision, Recall, and F1-score\n",
    "\n",
    "In addition to accuracy, precision, recall, and F1-score are commonly used metrics to evaluate classification models. Precision measures the proportion of true positive predictions among all positive predictions. Recall (also known as sensitivity) measures the proportion of true positive predictions among all actual positive instances. F1-score is the harmonic mean of precision and recall, providing a balance between the two metrics.\n",
    "\n",
    "The following code snippet calculates precision, recall, and F1-score on the test data:"
   ]
  },
  {
   "cell_type": "code",
   "execution_count": null,
   "id": "2fb0a2c0-022a-4922-a9f3-6b74b43da913",
   "metadata": {
    "tags": []
   },
   "outputs": [],
   "source": [
    "# Calculate precision, recall, and F1-score\n",
    "print(classification_report(Y_test, X_test_prediction))"
   ]
  },
  {
   "cell_type": "markdown",
   "id": "a89e04c6-6bc5-45e8-ba13-324c500013fa",
   "metadata": {},
   "source": [
    "### Receiver Operating Characteristic (ROC) Curve and AUC\n",
    "\n",
    "The ROC curve is a graphical plot that illustrates the diagnostic ability of a binary classifier system as its discrimination threshold is varied. It plots the true positive rate (TPR) against the false positive rate (FPR) at various threshold settings. The area under the ROC curve (AUC) represents the performance of the classifier.\n",
    "\n",
    "The following ROC curve visualizes the performance of the model on the test data:"
   ]
  },
  {
   "cell_type": "code",
   "execution_count": null,
   "id": "7134b664-281a-41e7-9e11-dc176dc98ebb",
   "metadata": {
    "tags": []
   },
   "outputs": [],
   "source": [
    "# Calculate ROC curve and AUC\n",
    "fpr, tpr, thresholds = roc_curve(Y_test, model.predict_proba(X_test)[:,1])\n",
    "roc_auc = auc(fpr, tpr)\n",
    "\n",
    "# Plot ROC curve\n",
    "plt.figure(figsize=(8, 6))\n",
    "plt.plot(fpr, tpr, color='darkorange', lw=2, label='ROC curve (area = %0.2f)' % roc_auc)\n",
    "plt.plot([0, 1], [0, 1], color='navy', lw=2, linestyle='--')\n",
    "plt.xlim([0.0, 1.0])\n",
    "plt.ylim([0.0, 1.05])\n",
    "plt.xlabel('False Positive Rate')\n",
    "plt.ylabel('True Positive Rate')\n",
    "plt.title('Receiver Operating Characteristic (ROC) Curve')\n",
    "plt.legend(loc=\"lower right\")\n",
    "plt.show()\n"
   ]
  },
  {
   "cell_type": "markdown",
   "id": "6c6eaf07-2fb2-4bfb-8a02-d14efa5a3a5a",
   "metadata": {},
   "source": [
    "### Conclusion\n",
    "\n",
    "In this project, we developed a machine learning model to detect fraudulent transactions in credit card data. We began by exploring the dataset and understanding its characteristics through exploratory data analysis. We then preprocessed the data, balanced the class distribution, and split it into training and testing sets. A Logistic Regression model was trained on the training data and evaluated using various metrics including accuracy, precision, recall, and F1-score.\n",
    "\n",
    "Additionally, we analyzed the Receiver Operating Characteristic (ROC) curve and calculated the Area Under the Curve (AUC) to assess the model's performance in distinguishing between positive and negative classes. The ROC curve indicated good performance with an AUC score of 0.92.\n",
    "\n",
    "Overall, the developed model demonstrates promising results in detecting fraudulent transactions, which can aid credit card companies in preventing financial losses and ensuring customer security.\n",
    "\n",
    "## Thank You\n",
    "### Riddhi Sharma"
   ]
  }
 ],
 "metadata": {
  "availableInstances": [
   {
    "_defaultOrder": 0,
    "_isFastLaunch": true,
    "category": "General purpose",
    "gpuNum": 0,
    "hideHardwareSpecs": false,
    "memoryGiB": 4,
    "name": "ml.t3.medium",
    "vcpuNum": 2
   },
   {
    "_defaultOrder": 1,
    "_isFastLaunch": false,
    "category": "General purpose",
    "gpuNum": 0,
    "hideHardwareSpecs": false,
    "memoryGiB": 8,
    "name": "ml.t3.large",
    "vcpuNum": 2
   },
   {
    "_defaultOrder": 2,
    "_isFastLaunch": false,
    "category": "General purpose",
    "gpuNum": 0,
    "hideHardwareSpecs": false,
    "memoryGiB": 16,
    "name": "ml.t3.xlarge",
    "vcpuNum": 4
   },
   {
    "_defaultOrder": 3,
    "_isFastLaunch": false,
    "category": "General purpose",
    "gpuNum": 0,
    "hideHardwareSpecs": false,
    "memoryGiB": 32,
    "name": "ml.t3.2xlarge",
    "vcpuNum": 8
   },
   {
    "_defaultOrder": 4,
    "_isFastLaunch": true,
    "category": "General purpose",
    "gpuNum": 0,
    "hideHardwareSpecs": false,
    "memoryGiB": 8,
    "name": "ml.m5.large",
    "vcpuNum": 2
   },
   {
    "_defaultOrder": 5,
    "_isFastLaunch": false,
    "category": "General purpose",
    "gpuNum": 0,
    "hideHardwareSpecs": false,
    "memoryGiB": 16,
    "name": "ml.m5.xlarge",
    "vcpuNum": 4
   },
   {
    "_defaultOrder": 6,
    "_isFastLaunch": false,
    "category": "General purpose",
    "gpuNum": 0,
    "hideHardwareSpecs": false,
    "memoryGiB": 32,
    "name": "ml.m5.2xlarge",
    "vcpuNum": 8
   },
   {
    "_defaultOrder": 7,
    "_isFastLaunch": false,
    "category": "General purpose",
    "gpuNum": 0,
    "hideHardwareSpecs": false,
    "memoryGiB": 64,
    "name": "ml.m5.4xlarge",
    "vcpuNum": 16
   },
   {
    "_defaultOrder": 8,
    "_isFastLaunch": false,
    "category": "General purpose",
    "gpuNum": 0,
    "hideHardwareSpecs": false,
    "memoryGiB": 128,
    "name": "ml.m5.8xlarge",
    "vcpuNum": 32
   },
   {
    "_defaultOrder": 9,
    "_isFastLaunch": false,
    "category": "General purpose",
    "gpuNum": 0,
    "hideHardwareSpecs": false,
    "memoryGiB": 192,
    "name": "ml.m5.12xlarge",
    "vcpuNum": 48
   },
   {
    "_defaultOrder": 10,
    "_isFastLaunch": false,
    "category": "General purpose",
    "gpuNum": 0,
    "hideHardwareSpecs": false,
    "memoryGiB": 256,
    "name": "ml.m5.16xlarge",
    "vcpuNum": 64
   },
   {
    "_defaultOrder": 11,
    "_isFastLaunch": false,
    "category": "General purpose",
    "gpuNum": 0,
    "hideHardwareSpecs": false,
    "memoryGiB": 384,
    "name": "ml.m5.24xlarge",
    "vcpuNum": 96
   },
   {
    "_defaultOrder": 12,
    "_isFastLaunch": false,
    "category": "General purpose",
    "gpuNum": 0,
    "hideHardwareSpecs": false,
    "memoryGiB": 8,
    "name": "ml.m5d.large",
    "vcpuNum": 2
   },
   {
    "_defaultOrder": 13,
    "_isFastLaunch": false,
    "category": "General purpose",
    "gpuNum": 0,
    "hideHardwareSpecs": false,
    "memoryGiB": 16,
    "name": "ml.m5d.xlarge",
    "vcpuNum": 4
   },
   {
    "_defaultOrder": 14,
    "_isFastLaunch": false,
    "category": "General purpose",
    "gpuNum": 0,
    "hideHardwareSpecs": false,
    "memoryGiB": 32,
    "name": "ml.m5d.2xlarge",
    "vcpuNum": 8
   },
   {
    "_defaultOrder": 15,
    "_isFastLaunch": false,
    "category": "General purpose",
    "gpuNum": 0,
    "hideHardwareSpecs": false,
    "memoryGiB": 64,
    "name": "ml.m5d.4xlarge",
    "vcpuNum": 16
   },
   {
    "_defaultOrder": 16,
    "_isFastLaunch": false,
    "category": "General purpose",
    "gpuNum": 0,
    "hideHardwareSpecs": false,
    "memoryGiB": 128,
    "name": "ml.m5d.8xlarge",
    "vcpuNum": 32
   },
   {
    "_defaultOrder": 17,
    "_isFastLaunch": false,
    "category": "General purpose",
    "gpuNum": 0,
    "hideHardwareSpecs": false,
    "memoryGiB": 192,
    "name": "ml.m5d.12xlarge",
    "vcpuNum": 48
   },
   {
    "_defaultOrder": 18,
    "_isFastLaunch": false,
    "category": "General purpose",
    "gpuNum": 0,
    "hideHardwareSpecs": false,
    "memoryGiB": 256,
    "name": "ml.m5d.16xlarge",
    "vcpuNum": 64
   },
   {
    "_defaultOrder": 19,
    "_isFastLaunch": false,
    "category": "General purpose",
    "gpuNum": 0,
    "hideHardwareSpecs": false,
    "memoryGiB": 384,
    "name": "ml.m5d.24xlarge",
    "vcpuNum": 96
   },
   {
    "_defaultOrder": 20,
    "_isFastLaunch": false,
    "category": "General purpose",
    "gpuNum": 0,
    "hideHardwareSpecs": true,
    "memoryGiB": 0,
    "name": "ml.geospatial.interactive",
    "supportedImageNames": [
     "sagemaker-geospatial-v1-0"
    ],
    "vcpuNum": 0
   },
   {
    "_defaultOrder": 21,
    "_isFastLaunch": true,
    "category": "Compute optimized",
    "gpuNum": 0,
    "hideHardwareSpecs": false,
    "memoryGiB": 4,
    "name": "ml.c5.large",
    "vcpuNum": 2
   },
   {
    "_defaultOrder": 22,
    "_isFastLaunch": false,
    "category": "Compute optimized",
    "gpuNum": 0,
    "hideHardwareSpecs": false,
    "memoryGiB": 8,
    "name": "ml.c5.xlarge",
    "vcpuNum": 4
   },
   {
    "_defaultOrder": 23,
    "_isFastLaunch": false,
    "category": "Compute optimized",
    "gpuNum": 0,
    "hideHardwareSpecs": false,
    "memoryGiB": 16,
    "name": "ml.c5.2xlarge",
    "vcpuNum": 8
   },
   {
    "_defaultOrder": 24,
    "_isFastLaunch": false,
    "category": "Compute optimized",
    "gpuNum": 0,
    "hideHardwareSpecs": false,
    "memoryGiB": 32,
    "name": "ml.c5.4xlarge",
    "vcpuNum": 16
   },
   {
    "_defaultOrder": 25,
    "_isFastLaunch": false,
    "category": "Compute optimized",
    "gpuNum": 0,
    "hideHardwareSpecs": false,
    "memoryGiB": 72,
    "name": "ml.c5.9xlarge",
    "vcpuNum": 36
   },
   {
    "_defaultOrder": 26,
    "_isFastLaunch": false,
    "category": "Compute optimized",
    "gpuNum": 0,
    "hideHardwareSpecs": false,
    "memoryGiB": 96,
    "name": "ml.c5.12xlarge",
    "vcpuNum": 48
   },
   {
    "_defaultOrder": 27,
    "_isFastLaunch": false,
    "category": "Compute optimized",
    "gpuNum": 0,
    "hideHardwareSpecs": false,
    "memoryGiB": 144,
    "name": "ml.c5.18xlarge",
    "vcpuNum": 72
   },
   {
    "_defaultOrder": 28,
    "_isFastLaunch": false,
    "category": "Compute optimized",
    "gpuNum": 0,
    "hideHardwareSpecs": false,
    "memoryGiB": 192,
    "name": "ml.c5.24xlarge",
    "vcpuNum": 96
   },
   {
    "_defaultOrder": 29,
    "_isFastLaunch": true,
    "category": "Accelerated computing",
    "gpuNum": 1,
    "hideHardwareSpecs": false,
    "memoryGiB": 16,
    "name": "ml.g4dn.xlarge",
    "vcpuNum": 4
   },
   {
    "_defaultOrder": 30,
    "_isFastLaunch": false,
    "category": "Accelerated computing",
    "gpuNum": 1,
    "hideHardwareSpecs": false,
    "memoryGiB": 32,
    "name": "ml.g4dn.2xlarge",
    "vcpuNum": 8
   },
   {
    "_defaultOrder": 31,
    "_isFastLaunch": false,
    "category": "Accelerated computing",
    "gpuNum": 1,
    "hideHardwareSpecs": false,
    "memoryGiB": 64,
    "name": "ml.g4dn.4xlarge",
    "vcpuNum": 16
   },
   {
    "_defaultOrder": 32,
    "_isFastLaunch": false,
    "category": "Accelerated computing",
    "gpuNum": 1,
    "hideHardwareSpecs": false,
    "memoryGiB": 128,
    "name": "ml.g4dn.8xlarge",
    "vcpuNum": 32
   },
   {
    "_defaultOrder": 33,
    "_isFastLaunch": false,
    "category": "Accelerated computing",
    "gpuNum": 4,
    "hideHardwareSpecs": false,
    "memoryGiB": 192,
    "name": "ml.g4dn.12xlarge",
    "vcpuNum": 48
   },
   {
    "_defaultOrder": 34,
    "_isFastLaunch": false,
    "category": "Accelerated computing",
    "gpuNum": 1,
    "hideHardwareSpecs": false,
    "memoryGiB": 256,
    "name": "ml.g4dn.16xlarge",
    "vcpuNum": 64
   },
   {
    "_defaultOrder": 35,
    "_isFastLaunch": false,
    "category": "Accelerated computing",
    "gpuNum": 1,
    "hideHardwareSpecs": false,
    "memoryGiB": 61,
    "name": "ml.p3.2xlarge",
    "vcpuNum": 8
   },
   {
    "_defaultOrder": 36,
    "_isFastLaunch": false,
    "category": "Accelerated computing",
    "gpuNum": 4,
    "hideHardwareSpecs": false,
    "memoryGiB": 244,
    "name": "ml.p3.8xlarge",
    "vcpuNum": 32
   },
   {
    "_defaultOrder": 37,
    "_isFastLaunch": false,
    "category": "Accelerated computing",
    "gpuNum": 8,
    "hideHardwareSpecs": false,
    "memoryGiB": 488,
    "name": "ml.p3.16xlarge",
    "vcpuNum": 64
   },
   {
    "_defaultOrder": 38,
    "_isFastLaunch": false,
    "category": "Accelerated computing",
    "gpuNum": 8,
    "hideHardwareSpecs": false,
    "memoryGiB": 768,
    "name": "ml.p3dn.24xlarge",
    "vcpuNum": 96
   },
   {
    "_defaultOrder": 39,
    "_isFastLaunch": false,
    "category": "Memory Optimized",
    "gpuNum": 0,
    "hideHardwareSpecs": false,
    "memoryGiB": 16,
    "name": "ml.r5.large",
    "vcpuNum": 2
   },
   {
    "_defaultOrder": 40,
    "_isFastLaunch": false,
    "category": "Memory Optimized",
    "gpuNum": 0,
    "hideHardwareSpecs": false,
    "memoryGiB": 32,
    "name": "ml.r5.xlarge",
    "vcpuNum": 4
   },
   {
    "_defaultOrder": 41,
    "_isFastLaunch": false,
    "category": "Memory Optimized",
    "gpuNum": 0,
    "hideHardwareSpecs": false,
    "memoryGiB": 64,
    "name": "ml.r5.2xlarge",
    "vcpuNum": 8
   },
   {
    "_defaultOrder": 42,
    "_isFastLaunch": false,
    "category": "Memory Optimized",
    "gpuNum": 0,
    "hideHardwareSpecs": false,
    "memoryGiB": 128,
    "name": "ml.r5.4xlarge",
    "vcpuNum": 16
   },
   {
    "_defaultOrder": 43,
    "_isFastLaunch": false,
    "category": "Memory Optimized",
    "gpuNum": 0,
    "hideHardwareSpecs": false,
    "memoryGiB": 256,
    "name": "ml.r5.8xlarge",
    "vcpuNum": 32
   },
   {
    "_defaultOrder": 44,
    "_isFastLaunch": false,
    "category": "Memory Optimized",
    "gpuNum": 0,
    "hideHardwareSpecs": false,
    "memoryGiB": 384,
    "name": "ml.r5.12xlarge",
    "vcpuNum": 48
   },
   {
    "_defaultOrder": 45,
    "_isFastLaunch": false,
    "category": "Memory Optimized",
    "gpuNum": 0,
    "hideHardwareSpecs": false,
    "memoryGiB": 512,
    "name": "ml.r5.16xlarge",
    "vcpuNum": 64
   },
   {
    "_defaultOrder": 46,
    "_isFastLaunch": false,
    "category": "Memory Optimized",
    "gpuNum": 0,
    "hideHardwareSpecs": false,
    "memoryGiB": 768,
    "name": "ml.r5.24xlarge",
    "vcpuNum": 96
   },
   {
    "_defaultOrder": 47,
    "_isFastLaunch": false,
    "category": "Accelerated computing",
    "gpuNum": 1,
    "hideHardwareSpecs": false,
    "memoryGiB": 16,
    "name": "ml.g5.xlarge",
    "vcpuNum": 4
   },
   {
    "_defaultOrder": 48,
    "_isFastLaunch": false,
    "category": "Accelerated computing",
    "gpuNum": 1,
    "hideHardwareSpecs": false,
    "memoryGiB": 32,
    "name": "ml.g5.2xlarge",
    "vcpuNum": 8
   },
   {
    "_defaultOrder": 49,
    "_isFastLaunch": false,
    "category": "Accelerated computing",
    "gpuNum": 1,
    "hideHardwareSpecs": false,
    "memoryGiB": 64,
    "name": "ml.g5.4xlarge",
    "vcpuNum": 16
   },
   {
    "_defaultOrder": 50,
    "_isFastLaunch": false,
    "category": "Accelerated computing",
    "gpuNum": 1,
    "hideHardwareSpecs": false,
    "memoryGiB": 128,
    "name": "ml.g5.8xlarge",
    "vcpuNum": 32
   },
   {
    "_defaultOrder": 51,
    "_isFastLaunch": false,
    "category": "Accelerated computing",
    "gpuNum": 1,
    "hideHardwareSpecs": false,
    "memoryGiB": 256,
    "name": "ml.g5.16xlarge",
    "vcpuNum": 64
   },
   {
    "_defaultOrder": 52,
    "_isFastLaunch": false,
    "category": "Accelerated computing",
    "gpuNum": 4,
    "hideHardwareSpecs": false,
    "memoryGiB": 192,
    "name": "ml.g5.12xlarge",
    "vcpuNum": 48
   },
   {
    "_defaultOrder": 53,
    "_isFastLaunch": false,
    "category": "Accelerated computing",
    "gpuNum": 4,
    "hideHardwareSpecs": false,
    "memoryGiB": 384,
    "name": "ml.g5.24xlarge",
    "vcpuNum": 96
   },
   {
    "_defaultOrder": 54,
    "_isFastLaunch": false,
    "category": "Accelerated computing",
    "gpuNum": 8,
    "hideHardwareSpecs": false,
    "memoryGiB": 768,
    "name": "ml.g5.48xlarge",
    "vcpuNum": 192
   },
   {
    "_defaultOrder": 55,
    "_isFastLaunch": false,
    "category": "Accelerated computing",
    "gpuNum": 8,
    "hideHardwareSpecs": false,
    "memoryGiB": 1152,
    "name": "ml.p4d.24xlarge",
    "vcpuNum": 96
   },
   {
    "_defaultOrder": 56,
    "_isFastLaunch": false,
    "category": "Accelerated computing",
    "gpuNum": 8,
    "hideHardwareSpecs": false,
    "memoryGiB": 1152,
    "name": "ml.p4de.24xlarge",
    "vcpuNum": 96
   },
   {
    "_defaultOrder": 57,
    "_isFastLaunch": false,
    "category": "Accelerated computing",
    "gpuNum": 0,
    "hideHardwareSpecs": false,
    "memoryGiB": 32,
    "name": "ml.trn1.2xlarge",
    "vcpuNum": 8
   },
   {
    "_defaultOrder": 58,
    "_isFastLaunch": false,
    "category": "Accelerated computing",
    "gpuNum": 0,
    "hideHardwareSpecs": false,
    "memoryGiB": 512,
    "name": "ml.trn1.32xlarge",
    "vcpuNum": 128
   },
   {
    "_defaultOrder": 59,
    "_isFastLaunch": false,
    "category": "Accelerated computing",
    "gpuNum": 0,
    "hideHardwareSpecs": false,
    "memoryGiB": 512,
    "name": "ml.trn1n.32xlarge",
    "vcpuNum": 128
   }
  ],
  "instance_type": "ml.t3.medium",
  "kernelspec": {
   "display_name": "Python 3 (Data Science 3.0)",
   "language": "python",
   "name": "python3__SAGEMAKER_INTERNAL__arn:aws:sagemaker:us-east-1:081325390199:image/sagemaker-data-science-310-v1"
  },
  "language_info": {
   "codemirror_mode": {
    "name": "ipython",
    "version": 3
   },
   "file_extension": ".py",
   "mimetype": "text/x-python",
   "name": "python",
   "nbconvert_exporter": "python",
   "pygments_lexer": "ipython3",
   "version": "3.10.6"
  }
 },
 "nbformat": 4,
 "nbformat_minor": 5
}

